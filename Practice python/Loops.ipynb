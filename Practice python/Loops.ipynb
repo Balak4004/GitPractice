{
 "cells": [
  {
   "cell_type": "markdown",
   "id": "76b61332-ad0d-4a29-affd-daa861fea760",
   "metadata": {},
   "source": [
    "concepts of Loops\n",
    "    "
   ]
  },
  {
   "cell_type": "markdown",
   "id": "61a9c446-77c9-422e-98b8-2544df66dd15",
   "metadata": {},
   "source": [
    "While Loop"
   ]
  },
  {
   "cell_type": "markdown",
   "id": "a2c25382-267d-4a77-8e42-26ef15ae9bc7",
   "metadata": {},
   "source": [
    "display numbers from 1 to 5\n"
   ]
  },
  {
   "cell_type": "code",
   "execution_count": 13,
   "id": "f88767ba-1181-46a3-92c4-a44d8bab5344",
   "metadata": {},
   "outputs": [
    {
     "name": "stdout",
     "output_type": "stream",
     "text": [
      "3\n",
      "4\n",
      "5\n"
     ]
    }
   ],
   "source": [
    "i=3\n",
    "n=5\n",
    "while i<=n:\n",
    "    print(i)\n",
    "    i=i+1"
   ]
  },
  {
   "cell_type": "code",
   "execution_count": null,
   "id": "fe16234b-d745-4b25-93e7-87f53dfcf0f5",
   "metadata": {},
   "outputs": [],
   "source": [
    "enter a number and make multiplication table"
   ]
  },
  {
   "cell_type": "code",
   "execution_count": 15,
   "id": "e01a0f74-a39c-4cd3-9c61-b987c2626006",
   "metadata": {},
   "outputs": [
    {
     "name": "stdin",
     "output_type": "stream",
     "text": [
      "eneter a number 5\n"
     ]
    },
    {
     "name": "stdout",
     "output_type": "stream",
     "text": [
      "5\n",
      "10\n",
      "15\n",
      "20\n",
      "25\n",
      "30\n",
      "35\n",
      "40\n",
      "45\n",
      "50\n"
     ]
    }
   ],
   "source": [
    "x=int(input(\"eneter a number\"))\n",
    "i=1\n",
    "while i<=10:\n",
    "    print(x*i)\n",
    "    i=i+1"
   ]
  },
  {
   "cell_type": "code",
   "execution_count": 17,
   "id": "a308336a-e683-4888-ad05-c4ad091fbbe5",
   "metadata": {},
   "outputs": [
    {
     "name": "stdout",
     "output_type": "stream",
     "text": [
      "Good morning\n",
      "Good morning\n",
      "Good morning\n",
      "Good morning\n",
      "Good morning\n"
     ]
    }
   ],
   "source": [
    "i=0\n",
    "while (i<5):\n",
    "    i=i+1\n",
    "    print(\"Good morning\")"
   ]
  },
  {
   "cell_type": "markdown",
   "id": "68c3294e-2498-416a-99f3-f80afc52f0b1",
   "metadata": {},
   "source": [
    "Using else in the while Loop"
   ]
  },
  {
   "cell_type": "code",
   "execution_count": 21,
   "id": "dd099bcc-84d0-4a86-b518-66b5cfa08eb6",
   "metadata": {},
   "outputs": [
    {
     "name": "stdout",
     "output_type": "stream",
     "text": [
      "Good morning\n",
      "Good morning\n",
      "Good morning\n",
      "Good morning\n",
      "Good morning\n",
      "Bye\n"
     ]
    }
   ],
   "source": [
    "i=0\n",
    "while (i<5):\n",
    "    i=i+1\n",
    "    print(\"Good morning\")\n",
    "else:\n",
    "    print(\"Bye\")"
   ]
  },
  {
   "cell_type": "markdown",
   "id": "e6bc4dc2-6965-4b12-b0f4-58214cbbd897",
   "metadata": {},
   "source": [
    "For Loop program"
   ]
  },
  {
   "cell_type": "code",
   "execution_count": 25,
   "id": "94f537f0-5384-4f21-b931-a6f0fca56393",
   "metadata": {},
   "outputs": [
    {
     "name": "stdout",
     "output_type": "stream",
     "text": [
      "apple\n",
      "banana\n",
      "orange\n"
     ]
    }
   ],
   "source": [
    "fruits = [\"apple\", \"banana\", \"orange\"]\n",
    "for x in fruits:\n",
    "    print(x)"
   ]
  },
  {
   "cell_type": "code",
   "execution_count": 1,
   "id": "93068112-e7ef-4177-a1c0-8c9b1bb1cacd",
   "metadata": {},
   "outputs": [
    {
     "name": "stdout",
     "output_type": "stream",
     "text": [
      "b\n",
      "a\n",
      "n\n",
      "a\n",
      "n\n",
      "a\n"
     ]
    }
   ],
   "source": [
    "for x in \"banana\":\n",
    "    print(x)"
   ]
  },
  {
   "cell_type": "code",
   "execution_count": 5,
   "id": "0b1ba296-7a8a-4ae3-bc80-d8e35821dc27",
   "metadata": {},
   "outputs": [
    {
     "name": "stdout",
     "output_type": "stream",
     "text": [
      "2\n",
      "3\n",
      "4\n"
     ]
    }
   ],
   "source": [
    "for x in range(2,5):\n",
    "    print(x)"
   ]
  },
  {
   "cell_type": "code",
   "execution_count": 25,
   "id": "c55ff6e4-5e36-48ea-99f4-1dcffe20c202",
   "metadata": {},
   "outputs": [
    {
     "name": "stdout",
     "output_type": "stream",
     "text": [
      "1234\n"
     ]
    }
   ],
   "source": [
    "y = 1234.56\n",
    "print(int(y))"
   ]
  },
  {
   "cell_type": "code",
   "execution_count": 27,
   "id": "f8df8a72-92c1-4a9f-a8da-9fdfd199ec06",
   "metadata": {},
   "outputs": [
    {
     "name": "stdout",
     "output_type": "stream",
     "text": [
      "3\n"
     ]
    }
   ],
   "source": [
    "y = [(\"a\"), (\"b\"), (\"c\")]\n",
    "print(len(y))"
   ]
  },
  {
   "cell_type": "code",
   "execution_count": 29,
   "id": "85066e68-3cdb-4f8f-a6c4-63ab075de6b6",
   "metadata": {},
   "outputs": [
    {
     "name": "stdout",
     "output_type": "stream",
     "text": [
      "7125.0\n",
      "7125\n"
     ]
    }
   ],
   "source": [
    "p=25000\n",
    "r=9.5\n",
    "t=3\n",
    "si = (p*r*t)/100\n",
    "print(si)\n",
    "print(int(si))"
   ]
  },
  {
   "cell_type": "code",
   "execution_count": 63,
   "id": "ec66bedd-ccd7-448f-81d5-817804333916",
   "metadata": {},
   "outputs": [
    {
     "name": "stdout",
     "output_type": "stream",
     "text": [
      "45.0\n"
     ]
    }
   ],
   "source": [
    "s = [23, 45, 67]\n",
    "a = sum(s)\n",
    "avgh  = a/b\n",
    "print(avgh)"
   ]
  },
  {
   "cell_type": "code",
   "execution_count": 71,
   "id": "cef25e9e-1a71-4c0f-b723-a054e286b907",
   "metadata": {},
   "outputs": [
    {
     "name": "stdout",
     "output_type": "stream",
     "text": [
      "u1 paying above threshold False\n",
      "u2 paying above threshold False\n",
      "1500\n",
      "2500\n",
      "False\n",
      "False\n"
     ]
    }
   ],
   "source": [
    "h1 = 3\n",
    "b1 = 1000\n",
    "h2 = 5\n",
    "b2 = 2000\n",
    "x = 500\n",
    "cost1 = h1 * x\n",
    "cost2 = h2 * x\n",
    "threshold = 3000\n",
    "u1thre = cost1 >= threshold\n",
    "u2thre = cost2 >= threshold\n",
    "print(f\"u1 paying above threshold\", u1thre)\n",
    "print(f\"u2 paying above threshold\", u2thre)   \n",
    "print(cost1)\n",
    "print(cost2)\n",
    "print(u1thre)\n",
    "print(u2thre)"
   ]
  },
  {
   "cell_type": "code",
   "execution_count": 79,
   "id": "4dec0b70-33d0-400e-b24d-014d9397c6e1",
   "metadata": {},
   "outputs": [
    {
     "name": "stdout",
     "output_type": "stream",
     "text": [
      "True\n",
      "False\n"
     ]
    }
   ],
   "source": [
    "currtemp = 6\n",
    "mintemp = 5\n",
    "maxtemp = 20\n",
    "within = currtemp> mintemp and currtemp <maxtemp\n",
    "out = currtemp< mintemp or currtemp >maxtemp\n",
    "print(within)\n",
    "print(out)"
   ]
  }
 ],
 "metadata": {
  "kernelspec": {
   "display_name": "Python 3 (ipykernel)",
   "language": "python",
   "name": "python3"
  },
  "language_info": {
   "codemirror_mode": {
    "name": "ipython",
    "version": 3
   },
   "file_extension": ".py",
   "mimetype": "text/x-python",
   "name": "python",
   "nbconvert_exporter": "python",
   "pygments_lexer": "ipython3",
   "version": "3.12.4"
  }
 },
 "nbformat": 4,
 "nbformat_minor": 5
}
